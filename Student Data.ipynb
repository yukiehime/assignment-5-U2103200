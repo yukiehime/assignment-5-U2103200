{
 "cells": [
  {
   "cell_type": "code",
   "execution_count": 1,
   "id": "8f15327c",
   "metadata": {},
   "outputs": [
    {
     "name": "stdout",
     "output_type": "stream",
     "text": [
      "Error: File 'students.csv' not found.\n"
     ]
    }
   ],
   "source": [
    "import csv\n",
    "\n",
    "def process_students_csv(input_file, output_file):\n",
    "    try:\n",
    "        with open(input_file, 'r') as infile, open(output_file, 'w', newline='') as outfile:\n",
    "            \n",
    "            reader = csv.DictReader(infile)\n",
    "            fieldnames = reader.fieldnames + ['Status']\n",
    "            writer = csv.DictWriter(outfile, fieldnames=fieldnames)\n",
    "\n",
    "            writer.writeheader()\n",
    "            \n",
    "            for row in reader:\n",
    "                grade = row['Grade'].upper()\n",
    "\n",
    "                if grade >= 'B':\n",
    "                    row['Status'] = 'Passed'\n",
    "                    writer.writerow(row)\n",
    "\n",
    "        print(f\"Filtered data saved to '{output_file}'.\")\n",
    "    except FileNotFoundError:\n",
    "        print(f\"Error: File '{input_file}' not found.\")\n",
    "    except Exception as e:\n",
    "        print(f\"Error: {e}\")\n",
    "\n",
    "if __name__ == \"__main__\":\n",
    "    input_csv_file = \"students.csv\"\n",
    "    output_csv_file = \"top_students.csv\"\n",
    "\n",
    "    process_students_csv(input_csv_file, output_csv_file)"
   ]
  },
  {
   "cell_type": "code",
   "execution_count": null,
   "id": "1798482d",
   "metadata": {},
   "outputs": [],
   "source": []
  }
 ],
 "metadata": {
  "kernelspec": {
   "display_name": "Python 3 (ipykernel)",
   "language": "python",
   "name": "python3"
  },
  "language_info": {
   "codemirror_mode": {
    "name": "ipython",
    "version": 3
   },
   "file_extension": ".py",
   "mimetype": "text/x-python",
   "name": "python",
   "nbconvert_exporter": "python",
   "pygments_lexer": "ipython3",
   "version": "3.11.5"
  }
 },
 "nbformat": 4,
 "nbformat_minor": 5
}
