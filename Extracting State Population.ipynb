{
 "cells": [
  {
   "cell_type": "code",
   "execution_count": null,
   "id": "6719ef46",
   "metadata": {},
   "outputs": [
    {
     "name": "stdout",
     "output_type": "stream",
     "text": [
      "Enter the name of a state (type 'exit' to end): Kuala Lumpur\n",
      "Population of Kuala lumpur: 1746600\n",
      "Enter the name of a state (type 'exit' to end): UnknownState\n",
      "Unknownstate is not found in the data.\n",
      "Enter the name of a state (type 'exit' to end): Kedah\n",
      "Population of Kedah: 2194100\n",
      "Enter the name of a state (type 'exit' to end): Perlis\n",
      "Population of Perlis: 255400\n"
     ]
    }
   ],
   "source": [
    "import requests\n",
    "\n",
    "def get_state_population(state_name, data):\n",
    "    for state_info in data:\n",
    "        if state_info[\"state\"].lower() == state_name.lower():\n",
    "            return state_info[\"population\"]\n",
    "    return None\n",
    "\n",
    "def main():\n",
    "    url = \"https://jian.sh/malaysia-api/state/v1/all.json\"\n",
    "    \n",
    "    response = requests.get(url)\n",
    "    \n",
    "    if response.status_code == 200:\n",
    "        data = response.json()\n",
    "        \n",
    "        while True:\n",
    "            state_name = input(\"Enter the name of a state (type 'exit' to end): \").capitalize()\n",
    "            \n",
    "            if state_name.lower() == \"exit\":\n",
    "                break\n",
    "\n",
    "            population = get_state_population(state_name, data)\n",
    "\n",
    "            if population is not None:\n",
    "                print(f\"Population of {state_name}: {population}\")\n",
    "            else:\n",
    "                print(f\"{state_name} is not found in the data.\")\n",
    "    else:\n",
    "        print(f\"Failed to fetch data. Status code: {response.status_code}\")\n",
    "\n",
    "if __name__ == \"__main__\":\n",
    "    main()"
   ]
  },
  {
   "cell_type": "code",
   "execution_count": null,
   "id": "d66566b3",
   "metadata": {},
   "outputs": [],
   "source": []
  }
 ],
 "metadata": {
  "kernelspec": {
   "display_name": "Python 3 (ipykernel)",
   "language": "python",
   "name": "python3"
  },
  "language_info": {
   "codemirror_mode": {
    "name": "ipython",
    "version": 3
   },
   "file_extension": ".py",
   "mimetype": "text/x-python",
   "name": "python",
   "nbconvert_exporter": "python",
   "pygments_lexer": "ipython3",
   "version": "3.11.5"
  }
 },
 "nbformat": 4,
 "nbformat_minor": 5
}
